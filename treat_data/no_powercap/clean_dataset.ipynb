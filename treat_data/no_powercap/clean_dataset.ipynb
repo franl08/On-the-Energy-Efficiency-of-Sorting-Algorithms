{
 "cells": [
  {
   "cell_type": "code",
   "execution_count": 1,
   "metadata": {},
   "outputs": [
    {
     "name": "stdout",
     "output_type": "stream",
     "text": [
      " Time (sec)\n",
      "Removed 2 entries:\n",
      "{'language': 'Python', 'algorithm': ' bubblesort_100000.sh', 'size': ' 100000', 'package': ' 9994.038818 ', 'core(s)': ' -256766.840881 ', 'gpu': ' 3.104553 ', 'memory(kb)': ' 93700', 'time(sec)': ' 403.514 '}\n",
      "{'language': 'Python', 'algorithm': ' cyclesort_100000.sh', 'size': ' 100000', 'package': ' -246476.158020 ', 'core(s)': ' 8414.524231 ', 'gpu': ' 5.075684 ', 'memory(kb)': ' 93700', 'time(sec)': ' 633.502 '}\n",
      " Time (sec)\n",
      "Removed 0 entries:\n"
     ]
    }
   ],
   "source": [
    "import csv\n",
    "import re\n",
    "\n",
    "def format_file(data, clean):\n",
    "    reader = csv.reader(data)\n",
    "    removed_entries = []\n",
    "    for i, row in enumerate(reader):\n",
    "        if (i == 0):\n",
    "            row[1] = 'Algorithm' # now it will be the algorithm name\n",
    "            row[2] = 'Size' # input size\n",
    "            row[7] = 'Memory(MB)' # memory\n",
    "            print(row[8])\n",
    "        elif (int(row[2]) < 0 or float(row[3]) < 0 or float(row[4]) < 0 or float(row[7]) < 0 ):\n",
    "            removed_entries.append({ 'language': row[0], \n",
    "                                     'algorithm': row[1],\n",
    "                                     'size': row[2],\n",
    "                                     'package': row[3],\n",
    "                                     'core(s)': row[4],\n",
    "                                     'gpu': row[5],\n",
    "                                     'memory(kb)': row[7],\n",
    "                                     'time(sec)': row[8]\n",
    "                                  })\n",
    "            continue\n",
    "        else:\n",
    "            row[1] = re.sub(r'(.*)\\_.*', r'\\1', row[1]) # stay with the algorithm name only\n",
    "            row[7] = float(row[7]) / 1000 # convert to MB\n",
    "        clean.write(f\"{row[0]},{row[1]},{row[2]},{row[3]},{row[4]},{row[5]},{row[7]},{row[8]}\\n\".replace(\" \", \"\")) # DRAM is always 0\n",
    "    print(f\"Removed {len(removed_entries)} entries:\")\n",
    "    for x in removed_entries:\n",
    "        print(x)\n",
    "data = open('../../results/no_powercap/algorithms.csv', 'r')\n",
    "clean = open('../../results/no_powercap/algorithms_clean.csv', 'w')\n",
    "\n",
    "format_file(data, clean)\n",
    "\n",
    "data.close()\n",
    "clean.close()\n",
    "\n",
    "data = open('../../results/no_powercap/compile.csv', 'r')\n",
    "clean = open('../../results/no_powercap/compile_clean.csv', 'w')\n",
    "\n",
    "format_file(data, clean)\n",
    "\n",
    "data.close()"
   ]
  }
 ],
 "metadata": {
  "kernelspec": {
   "display_name": "Python 3",
   "language": "python",
   "name": "python3"
  },
  "language_info": {
   "codemirror_mode": {
    "name": "ipython",
    "version": 3
   },
   "file_extension": ".py",
   "mimetype": "text/x-python",
   "name": "python",
   "nbconvert_exporter": "python",
   "pygments_lexer": "ipython3",
   "version": "3.11.3"
  },
  "orig_nbformat": 4,
  "vscode": {
   "interpreter": {
    "hash": "e7370f93d1d0cde622a1f8e1c04877d8463912d04d973331ad4851f04de6915a"
   }
  }
 },
 "nbformat": 4,
 "nbformat_minor": 2
}
