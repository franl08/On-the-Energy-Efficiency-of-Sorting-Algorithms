{
 "cells": [
  {
   "attachments": {},
   "cell_type": "markdown",
   "metadata": {},
   "source": [
    "# Algorithms"
   ]
  },
  {
   "cell_type": "code",
   "execution_count": 1,
   "metadata": {},
   "outputs": [],
   "source": [
    "import pandas as pd \n",
    "\n",
    "df = pd.read_csv('../../results/no_powercap/algorithms_clean.csv')\n",
    "grouped = df.groupby(['Algorithm', 'Language', 'Size'])\n",
    "\n",
    "df_avg = grouped.mean()\n",
    "df_avg.reset_index(inplace=True)\n",
    "\n",
    "df_avg.to_csv('../../results/no_powercap/algorithms_averages.csv', index=False)"
   ]
  },
  {
   "attachments": {},
   "cell_type": "markdown",
   "metadata": {},
   "source": [
    "# Compile"
   ]
  },
  {
   "cell_type": "code",
   "execution_count": null,
   "metadata": {},
   "outputs": [],
   "source": [
    "import pandas as pd \n",
    "\n",
    "df = pd.read_csv('../../results/no_powercap/compile_clean.csv')\n",
    "grouped = df.groupby(['Algorithm', 'Language', 'Size'])\n",
    "\n",
    "df_avg = grouped.mean()\n",
    "df_avg.reset_index(inplace=True)\n",
    "\n",
    "df_avg.to_csv('../../results/no_powercap/compile_averages.csv', index=False)"
   ]
  }
 ],
 "metadata": {
  "kernelspec": {
   "display_name": "Python 3",
   "language": "python",
   "name": "python3"
  },
  "language_info": {
   "codemirror_mode": {
    "name": "ipython",
    "version": 3
   },
   "file_extension": ".py",
   "mimetype": "text/x-python",
   "name": "python",
   "nbconvert_exporter": "python",
   "pygments_lexer": "ipython3",
   "version": "3.11.3"
  },
  "orig_nbformat": 4,
  "vscode": {
   "interpreter": {
    "hash": "e7370f93d1d0cde622a1f8e1c04877d8463912d04d973331ad4851f04de6915a"
   }
  }
 },
 "nbformat": 4,
 "nbformat_minor": 2
}
