{
 "cells": [
  {
   "cell_type": "code",
   "execution_count": 7,
   "metadata": {},
   "outputs": [
    {
     "name": "stdout",
     "output_type": "stream",
     "text": [
      "Removed 5 entries:\n",
      "{'language': 'Python', 'algorithm': ' cyclesort_50000.sh', 'size': ' 50000', 'package': ' 3629.313721 ', 'core(s)': ' -260187.408447 ', 'gpu': ' 1.153503 ', 'time(sec)': '  146.521 '}\n",
      "{'language': 'Python', 'algorithm': ' oddevensort_50000.sh', 'size': ' 50000', 'package': ' -259589.596313 ', 'core(s)': ' 1378.085815 ', 'gpu': ' 0.772583 ', 'time(sec)': '  103.091 '}\n",
      "{'language': 'Python', 'algorithm': ' cyclesort_100000.sh', 'size': ' 100000', 'package': ' -246437.691406 ', 'core(s)': ' 8432.692688 ', 'gpu': ' 4.621399 ', 'time(sec)': '  635.001 '}\n",
      "{'language': 'Swift', 'algorithm': ' insertionsort_100000', 'size': ' 100000', 'package': ' 8161.031555 ', 'core(s)': ' -257739.937317 ', 'gpu': ' 2.448853 ', 'time(sec)': '  329.494 '}\n",
      "{'language': 'Swift', 'algorithm': ' oddevensort_100000', 'size': ' 100000', 'package': ' -242812.537964 ', 'core(s)': ' 10424.872070 ', 'gpu': ' 5.896240 ', 'time(sec)': '  781.188 '}\n"
     ]
    }
   ],
   "source": [
    "import csv\n",
    "import re\n",
    "\n",
    "def format_file(data, clean):\n",
    "    reader = csv.reader(data)\n",
    "    removed_entries = []\n",
    "    for i, row in enumerate(reader):\n",
    "        if (i == 0):\n",
    "            row[1] = 'Algorithm' # now it will be the algorithm name\n",
    "            row[2] = 'Size' # input size\n",
    "        elif (int(row[2]) < 0 or float(row[3]) < 0 or float(row[4]) < 0 or float(row[7]) < 0):\n",
    "            removed_entries.append({ 'language': row[0], \n",
    "                                     'algorithm': row[1],\n",
    "                                     'size': row[2],\n",
    "                                     'package': row[3],\n",
    "                                     'core(s)': row[4],\n",
    "                                     'gpu': row[5],\n",
    "                                     'time(sec)': row[7] \n",
    "                                  })\n",
    "            continue\n",
    "        else:\n",
    "            row[1] = re.sub(r'(.*)\\_.*', r'\\1', row[1]) # stay with the algorithm name only\n",
    "        clean.write(f\"{row[0]},{row[1]},{row[2]},{row[3]},{row[4]},{row[5]},{row[7]}\\n\".replace(\" \", \"\")) # DRAM is always 0\n",
    "    print(f\"Removed {len(removed_entries)} entries:\")\n",
    "    for x in removed_entries:\n",
    "        print(x)\n",
    "data = open('../results/results.csv', 'r')\n",
    "clean = open('../results/clean.csv', 'w')\n",
    "\n",
    "format_file(data, clean)"
   ]
  }
 ],
 "metadata": {
  "kernelspec": {
   "display_name": "Python 3",
   "language": "python",
   "name": "python3"
  },
  "language_info": {
   "codemirror_mode": {
    "name": "ipython",
    "version": 3
   },
   "file_extension": ".py",
   "mimetype": "text/x-python",
   "name": "python",
   "nbconvert_exporter": "python",
   "pygments_lexer": "ipython3",
   "version": "3.11.3"
  },
  "orig_nbformat": 4,
  "vscode": {
   "interpreter": {
    "hash": "e7370f93d1d0cde622a1f8e1c04877d8463912d04d973331ad4851f04de6915a"
   }
  }
 },
 "nbformat": 4,
 "nbformat_minor": 2
}
