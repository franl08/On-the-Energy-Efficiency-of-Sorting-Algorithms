{
 "cells": [
  {
   "cell_type": "code",
   "execution_count": 1,
   "metadata": {},
   "outputs": [
    {
     "name": "stdout",
     "output_type": "stream",
     "text": [
      " Time (sec)\n",
      "Removed 2 entries:\n",
      "{'language': 'Python', 'algorithm': ' cyclesort_100000.sh', 'size': ' 100000', 'package': ' -246824.886292 ', 'core(s)': ' 6508.347046 ', 'gpu': ' 4.980225 ', 'memory(kb)': ' 93744', 'time(sec)': ' 769.936 '}\n",
      "{'language': 'Python', 'algorithm': ' selectionsort_100000.sh', 'size': ' 100000', 'package': ' 4622.204773 ', 'core(s)': ' -260181.085999 ', 'gpu': ' 1.433228 ', 'memory(kb)': ' 93708', 'time(sec)': ' 232.24 '}\n",
      " Time (sec)\n",
      "Removed 0 entries:\n"
     ]
    }
   ],
   "source": [
    "import csv\n",
    "import re\n",
    "\n",
    "def format_file(data, clean):\n",
    "    reader = csv.reader(data)\n",
    "    removed_entries = []\n",
    "    for i, row in enumerate(reader):\n",
    "        if (i == 0):\n",
    "            row[1] = 'Algorithm' # now it will be the algorithm name\n",
    "            row[2] = 'Size' # input size\n",
    "            row[7] = 'Memory(MB)' # memory\n",
    "            print(row[8])\n",
    "        elif (int(row[2]) < 0 or float(row[3]) < 0 or float(row[4]) < 0 or float(row[7]) < 0 ):\n",
    "            removed_entries.append({ 'language': row[0], \n",
    "                                     'algorithm': row[1],\n",
    "                                     'size': row[2],\n",
    "                                     'package': row[3],\n",
    "                                     'core(s)': row[4],\n",
    "                                     'gpu': row[5],\n",
    "                                     'memory(kb)': row[7],\n",
    "                                     'time(sec)': row[8]\n",
    "                                  })\n",
    "            continue\n",
    "        else:\n",
    "            row[1] = re.sub(r'(.*)\\_.*', r'\\1', row[1]) # stay with the algorithm name only\n",
    "            row[7] = float(row[7]) / 1000 # convert to MB\n",
    "        clean.write(f\"{row[0]},{row[1]},{row[2]},{row[3]},{row[4]},{row[5]},{row[7]},{row[8]}\\n\".replace(\" \", \"\")) # DRAM is always 0\n",
    "    print(f\"Removed {len(removed_entries)} entries:\")\n",
    "    for x in removed_entries:\n",
    "        print(x)\n",
    "data = open('../../results/powercap/algorithms.csv', 'r')\n",
    "clean = open('../../results/powercap/algorithms_clean.csv', 'w')\n",
    "\n",
    "format_file(data, clean)\n",
    "\n",
    "data.close()\n",
    "clean.close()\n",
    "\n",
    "data = open('../../results/powercap/compile.csv', 'r')\n",
    "clean = open('../../results/powercap/compile_clean.csv', 'w')\n",
    "\n",
    "format_file(data, clean)\n",
    "\n",
    "data.close()"
   ]
  }
 ],
 "metadata": {
  "kernelspec": {
   "display_name": "Python 3",
   "language": "python",
   "name": "python3"
  },
  "language_info": {
   "codemirror_mode": {
    "name": "ipython",
    "version": 3
   },
   "file_extension": ".py",
   "mimetype": "text/x-python",
   "name": "python",
   "nbconvert_exporter": "python",
   "pygments_lexer": "ipython3",
   "version": "3.11.3"
  },
  "orig_nbformat": 4,
  "vscode": {
   "interpreter": {
    "hash": "e7370f93d1d0cde622a1f8e1c04877d8463912d04d973331ad4851f04de6915a"
   }
  }
 },
 "nbformat": 4,
 "nbformat_minor": 2
}
